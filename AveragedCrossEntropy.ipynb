{
  "nbformat": 4,
  "nbformat_minor": 0,
  "metadata": {
    "colab": {
      "provenance": [],
      "authorship_tag": "ABX9TyOVyM7EbF3OgsKzJm4D22/+",
      "include_colab_link": true
    },
    "kernelspec": {
      "name": "python3",
      "display_name": "Python 3"
    },
    "language_info": {
      "name": "python"
    }
  },
  "cells": [
    {
      "cell_type": "markdown",
      "metadata": {
        "id": "view-in-github",
        "colab_type": "text"
      },
      "source": [
        "<a href=\"https://colab.research.google.com/github/Servat0r/HLT-Project-2023/blob/master/AveragedCrossEntropy.ipynb\" target=\"_parent\"><img src=\"https://colab.research.google.com/assets/colab-badge.svg\" alt=\"Open In Colab\"/></a>"
      ]
    },
    {
      "cell_type": "code",
      "source": [
        "from google.colab import drive\n",
        "drive.mount('/content/drive')"
      ],
      "metadata": {
        "id": "6b6mlQJ1apU-",
        "colab": {
          "base_uri": "https://localhost:8080/"
        },
        "outputId": "a1ac01c7-91ef-478a-b80d-6b519793ff64"
      },
      "execution_count": null,
      "outputs": [
        {
          "output_type": "stream",
          "name": "stdout",
          "text": [
            "Mounted at /content/drive\n"
          ]
        }
      ]
    },
    {
      "cell_type": "code",
      "execution_count": null,
      "metadata": {
        "colab": {
          "base_uri": "https://localhost:8080/"
        },
        "id": "6WFEoGwEsoeh",
        "outputId": "d349a7c4-0fc6-45c4-8afd-9469e47c7e37"
      },
      "outputs": [
        {
          "output_type": "stream",
          "name": "stdout",
          "text": [
            "/content/drive/MyDrive/Colab Notebooks\n"
          ]
        }
      ],
      "source": [
        "%cd \"/content/drive/MyDrive/Colab Notebooks\""
      ]
    },
    {
      "cell_type": "code",
      "source": [
        "%run utils.ipynb"
      ],
      "metadata": {
        "colab": {
          "base_uri": "https://localhost:8080/"
        },
        "id": "s0dWV0OQQF8V",
        "outputId": "8f897033-6764-4f89-c709-5e77884773ea"
      },
      "execution_count": null,
      "outputs": [
        {
          "output_type": "stream",
          "name": "stdout",
          "text": [
            "Requirement already satisfied: rouge_score in /usr/local/lib/python3.10/dist-packages (0.1.2)\n",
            "Requirement already satisfied: absl-py in /usr/local/lib/python3.10/dist-packages (from rouge_score) (1.4.0)\n",
            "Requirement already satisfied: nltk in /usr/local/lib/python3.10/dist-packages (from rouge_score) (3.8.1)\n",
            "Requirement already satisfied: numpy in /usr/local/lib/python3.10/dist-packages (from rouge_score) (1.23.5)\n",
            "Requirement already satisfied: six>=1.14.0 in /usr/local/lib/python3.10/dist-packages (from rouge_score) (1.16.0)\n",
            "Requirement already satisfied: click in /usr/local/lib/python3.10/dist-packages (from nltk->rouge_score) (8.1.7)\n",
            "Requirement already satisfied: joblib in /usr/local/lib/python3.10/dist-packages (from nltk->rouge_score) (1.3.2)\n",
            "Requirement already satisfied: regex>=2021.8.3 in /usr/local/lib/python3.10/dist-packages (from nltk->rouge_score) (2023.6.3)\n",
            "Requirement already satisfied: tqdm in /usr/local/lib/python3.10/dist-packages (from nltk->rouge_score) (4.66.1)\n",
            "Requirement already satisfied: bert_score in /usr/local/lib/python3.10/dist-packages (0.3.13)\n",
            "Requirement already satisfied: torch>=1.0.0 in /usr/local/lib/python3.10/dist-packages (from bert_score) (2.0.1+cu118)\n",
            "Requirement already satisfied: pandas>=1.0.1 in /usr/local/lib/python3.10/dist-packages (from bert_score) (1.5.3)\n",
            "Requirement already satisfied: transformers>=3.0.0 in /usr/local/lib/python3.10/dist-packages (from bert_score) (4.32.0)\n",
            "Requirement already satisfied: numpy in /usr/local/lib/python3.10/dist-packages (from bert_score) (1.23.5)\n",
            "Requirement already satisfied: requests in /usr/local/lib/python3.10/dist-packages (from bert_score) (2.31.0)\n",
            "Requirement already satisfied: tqdm>=4.31.1 in /usr/local/lib/python3.10/dist-packages (from bert_score) (4.66.1)\n",
            "Requirement already satisfied: matplotlib in /usr/local/lib/python3.10/dist-packages (from bert_score) (3.7.1)\n",
            "Requirement already satisfied: packaging>=20.9 in /usr/local/lib/python3.10/dist-packages (from bert_score) (23.1)\n",
            "Requirement already satisfied: python-dateutil>=2.8.1 in /usr/local/lib/python3.10/dist-packages (from pandas>=1.0.1->bert_score) (2.8.2)\n",
            "Requirement already satisfied: pytz>=2020.1 in /usr/local/lib/python3.10/dist-packages (from pandas>=1.0.1->bert_score) (2023.3)\n",
            "Requirement already satisfied: filelock in /usr/local/lib/python3.10/dist-packages (from torch>=1.0.0->bert_score) (3.12.2)\n",
            "Requirement already satisfied: typing-extensions in /usr/local/lib/python3.10/dist-packages (from torch>=1.0.0->bert_score) (4.7.1)\n",
            "Requirement already satisfied: sympy in /usr/local/lib/python3.10/dist-packages (from torch>=1.0.0->bert_score) (1.12)\n",
            "Requirement already satisfied: networkx in /usr/local/lib/python3.10/dist-packages (from torch>=1.0.0->bert_score) (3.1)\n",
            "Requirement already satisfied: jinja2 in /usr/local/lib/python3.10/dist-packages (from torch>=1.0.0->bert_score) (3.1.2)\n",
            "Requirement already satisfied: triton==2.0.0 in /usr/local/lib/python3.10/dist-packages (from torch>=1.0.0->bert_score) (2.0.0)\n",
            "Requirement already satisfied: cmake in /usr/local/lib/python3.10/dist-packages (from triton==2.0.0->torch>=1.0.0->bert_score) (3.27.2)\n",
            "Requirement already satisfied: lit in /usr/local/lib/python3.10/dist-packages (from triton==2.0.0->torch>=1.0.0->bert_score) (16.0.6)\n",
            "Requirement already satisfied: huggingface-hub<1.0,>=0.15.1 in /usr/local/lib/python3.10/dist-packages (from transformers>=3.0.0->bert_score) (0.16.4)\n",
            "Requirement already satisfied: pyyaml>=5.1 in /usr/local/lib/python3.10/dist-packages (from transformers>=3.0.0->bert_score) (6.0.1)\n",
            "Requirement already satisfied: regex!=2019.12.17 in /usr/local/lib/python3.10/dist-packages (from transformers>=3.0.0->bert_score) (2023.6.3)\n",
            "Requirement already satisfied: tokenizers!=0.11.3,<0.14,>=0.11.1 in /usr/local/lib/python3.10/dist-packages (from transformers>=3.0.0->bert_score) (0.13.3)\n",
            "Requirement already satisfied: safetensors>=0.3.1 in /usr/local/lib/python3.10/dist-packages (from transformers>=3.0.0->bert_score) (0.3.3)\n",
            "Requirement already satisfied: contourpy>=1.0.1 in /usr/local/lib/python3.10/dist-packages (from matplotlib->bert_score) (1.1.0)\n",
            "Requirement already satisfied: cycler>=0.10 in /usr/local/lib/python3.10/dist-packages (from matplotlib->bert_score) (0.11.0)\n",
            "Requirement already satisfied: fonttools>=4.22.0 in /usr/local/lib/python3.10/dist-packages (from matplotlib->bert_score) (4.42.1)\n",
            "Requirement already satisfied: kiwisolver>=1.0.1 in /usr/local/lib/python3.10/dist-packages (from matplotlib->bert_score) (1.4.4)\n",
            "Requirement already satisfied: pillow>=6.2.0 in /usr/local/lib/python3.10/dist-packages (from matplotlib->bert_score) (9.4.0)\n",
            "Requirement already satisfied: pyparsing>=2.3.1 in /usr/local/lib/python3.10/dist-packages (from matplotlib->bert_score) (3.1.1)\n",
            "Requirement already satisfied: charset-normalizer<4,>=2 in /usr/local/lib/python3.10/dist-packages (from requests->bert_score) (3.2.0)\n",
            "Requirement already satisfied: idna<4,>=2.5 in /usr/local/lib/python3.10/dist-packages (from requests->bert_score) (3.4)\n",
            "Requirement already satisfied: urllib3<3,>=1.21.1 in /usr/local/lib/python3.10/dist-packages (from requests->bert_score) (2.0.4)\n",
            "Requirement already satisfied: certifi>=2017.4.17 in /usr/local/lib/python3.10/dist-packages (from requests->bert_score) (2023.7.22)\n",
            "Requirement already satisfied: fsspec in /usr/local/lib/python3.10/dist-packages (from huggingface-hub<1.0,>=0.15.1->transformers>=3.0.0->bert_score) (2023.6.0)\n",
            "Requirement already satisfied: six>=1.5 in /usr/local/lib/python3.10/dist-packages (from python-dateutil>=2.8.1->pandas>=1.0.1->bert_score) (1.16.0)\n",
            "Requirement already satisfied: MarkupSafe>=2.0 in /usr/local/lib/python3.10/dist-packages (from jinja2->torch>=1.0.0->bert_score) (2.1.3)\n",
            "Requirement already satisfied: mpmath>=0.19 in /usr/local/lib/python3.10/dist-packages (from sympy->torch>=1.0.0->bert_score) (1.3.0)\n",
            "Updated!\n"
          ]
        }
      ]
    },
    {
      "cell_type": "code",
      "execution_count": null,
      "metadata": {
        "id": "7tO8fbjcM445"
      },
      "outputs": [],
      "source": [
        "from transformers import AutoModel, AutoTokenizer, MT5Model, MT5ForConditionalGeneration, AdamW, DataCollatorWithPadding\n",
        "from datasets import load_dataset, Dataset, load_from_disk, load_metric\n",
        "import numpy as np\n",
        "import evaluate\n",
        "import torch\n",
        "import os"
      ]
    },
    {
      "cell_type": "code",
      "source": [
        "class AveragedCrossEntropyLoss(torch.nn.CrossEntropyLoss):\n",
        "\n",
        "  def __init__(\n",
        "      self, weight = None, size_average=None, ignore_index: int = -100, sep_index: int = 1,  # <eos> token (tokenizer concatenates with <eos>)\n",
        "      reduce=None, final_reduction: str = 'mean', label_smoothing: float = 0.0, num_references=4,\n",
        "  ) -> None:\n",
        "    super().__init__(\n",
        "        weight, size_average=size_average, reduce=reduce,\n",
        "        reduction='none', label_smoothing=label_smoothing\n",
        "    )\n",
        "    self.final_reduction = final_reduction\n",
        "    self.sep_index = sep_index\n",
        "    self.num_references = num_references\n",
        "\n",
        "  def forward(self, predictions, targets):\n",
        "    \"\"\"\n",
        "    TODO: WE ARE STILL NOT DOING A WEIGHTED AVERAGE!\n",
        "    Predictions is of shape (batch_size, vocab_size).\n",
        "    References is of shape (batch_size, num_references, vocab_size)\n",
        "    Output is of shape (batch_size,)\n",
        "    Intermediate result store is of shape (num_references, batch_size, seq_len)\n",
        "    \"\"\"\n",
        "    batch_size, target_sequences_length = targets.shape[0], targets.shape[1] // self.num_references\n",
        "    results = []\n",
        "    for i in range(batch_size):\n",
        "      current_prediction = predictions[i, :, :]\n",
        "      intermediate = []\n",
        "      for j in range(self.num_references):\n",
        "        current_target = targets[i, j*target_sequences_length:(j+1)*target_sequences_length]\n",
        "        intermediate.append(\n",
        "            super().forward(current_prediction, current_target)\n",
        "        )\n",
        "      results.append(torch.mean(torch.stack(intermediate)))\n",
        "    output = torch.stack(results)\n",
        "    \"\"\"\n",
        "    intermediates = []\n",
        "    for i in range(batch_size):\n",
        "      if i % self.num_references == 0:\n",
        "        intermediates.append([])\n",
        "      prediction = predictions[i // self.num_references, :, :]\n",
        "      target = targets[i, :]\n",
        "      intermediates[-1].append(torch.mean(super().forward(prediction, target)))\n",
        "    output = torch.tensor([torch.mean(torch.stack(results)) for results in intermediates], requires_grad=True)\n",
        "    \"\"\"\n",
        "    if self.final_reduction == 'mean':\n",
        "      return torch.mean(output)\n",
        "    elif self.final_reduction == 'sum':\n",
        "      return torch.sum(output)\n",
        "    else:\n",
        "      return output"
      ],
      "metadata": {
        "id": "pA892E-IMcJ8"
      },
      "execution_count": null,
      "outputs": []
    },
    {
      "cell_type": "code",
      "source": [
        "class MT5ForConditionalGenerationAverageCE(MT5ForConditionalGeneration):\n",
        "\n",
        "  def __init__(self, *args, **kwargs):\n",
        "    super().__init__(*args, **kwargs)\n",
        "    self.loss = AveragedCrossEntropyLoss(final_reduction='mean', ignore_index=-100)  # TODO This implies having all references with same length!\n",
        "\n",
        "  def forward(self, *, input_ids, attention_mask, labels=None, num_references=4, **kwargs):\n",
        "    labels_length = labels.shape[1] // num_references\n",
        "    ref_labels = labels[:, 0:labels_length].clone()\n",
        "    base_output = super().forward(input_ids, attention_mask, labels=ref_labels, **kwargs)\n",
        "    output = base_output\n",
        "    output.loss = self.loss(base_output.logits, labels)\n",
        "    return output"
      ],
      "metadata": {
        "id": "Gl4gIN0Fa0LI"
      },
      "execution_count": null,
      "outputs": []
    }
  ]
}